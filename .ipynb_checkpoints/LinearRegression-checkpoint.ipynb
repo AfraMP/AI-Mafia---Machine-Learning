{
 "cells": [
  {
   "cell_type": "code",
   "execution_count": 1,
   "id": "e67e63d8-822c-4c2b-8743-9bce67083598",
   "metadata": {},
   "outputs": [],
   "source": [
    "import pandas as pd\n",
    "import numpy as np\n",
    "import matplotlib.pyplot as plt"
   ]
  },
  {
   "cell_type": "code",
   "execution_count": 43,
   "id": "1dfff81e-4eb6-41f9-a227-4805b8503778",
   "metadata": {},
   "outputs": [],
   "source": [
    "dataX = pd.read_csv('./linearRegressionData/linearX.csv')\n",
    "dataY = pd.read_csv('./linearRegressionData/lineary.csv')"
   ]
  },
  {
   "cell_type": "code",
   "execution_count": 45,
   "id": "7d910c31-4299-4fca-b7a7-9b4d6f204eea",
   "metadata": {},
   "outputs": [],
   "source": [
    "dataX = dataX.values\n",
    "dataY = dataY.values\n",
    "x = dataX.reshape((-1,))\n",
    "y = dataY.reshape((-1,))"
   ]
  },
  {
   "cell_type": "code",
   "execution_count": 52,
   "id": "029aeae8-da9f-4f01-8778-54cb89b88d0e",
   "metadata": {},
   "outputs": [
    {
     "data": {
      "image/png": "[encoded data removed]",
      "text/plain": [
       "<Figure size 640x480 with 1 Axes>"
      ]
     },
     "metadata": {},
     "output_type": "display_data"
    }
   ],
   "source": [
    "x =(x-x.mean())/x.std()\n",
    "plt.scatter(x, y)\n",
    "plt.show()"
   ]
  },
  {
   "cell_type": "code",
   "execution_count": 60,
   "id": "21c59ac9-0db7-45b3-bd6a-f732fc35364f",
   "metadata": {},
   "outputs": [],
   "source": [
    "def hypothesis(x, theta):\n",
    "    return theta[0] + theta[1]*x"
   ]
  },
  {
   "cell_type": "code",
   "execution_count": 62,
   "id": "c9e9a833-7405-43ca-adce-c01feaff5379",
   "metadata": {},
   "outputs": [],
   "source": [
    "def error(x, y, theta):\n",
    "    error = 0\n",
    "    for i in range(x.shape[0]):\n",
    "        hx =hypothesis(x[i], theta)\n",
    "        error+= (hx - y[i])**2\n",
    "    return error"
   ]
  },
  {
   "cell_type": "code",
   "execution_count": 64,
   "id": "fc2a4aef-3b50-4bb8-87f3-9e9b08d0f5b3",
   "metadata": {},
   "outputs": [],
   "source": [
    "def gradient(x, y, theta):\n",
    "    grad  = np.zeros((2,))\n",
    "    for i in range(x.shape[0]):\n",
    "        hx =hypothesis(x[i], theta)\n",
    "        grad[0] += (hx - y[i])\n",
    "        grad[1] += (hx - y[i]) * x[i]\n",
    "    return grad"
   ]
  },
  {
   "cell_type": "code",
   "execution_count": 72,
   "id": "e83baed0-bda0-41e3-bb44-8fc313d919f2",
   "metadata": {},
   "outputs": [],
   "source": [
    "def gradientDescent(x, y, learning_ratio = 0.001):\n",
    "    theta = np.array([-2.0, 0.0])\n",
    "    max_iteration = 100\n",
    "    itr = 0\n",
    "    err_list = []\n",
    "    theta_list = []\n",
    "    while(itr <= max_iteration):\n",
    "        grad = gradient(x, y, theta)\n",
    "        err_list.append(error(x, y, theta))\n",
    "        theta_list.append(theta)\n",
    "        theta[0] -= learning_ratio*grad[0]\n",
    "        theta[1] -= learning_ratio*grad[1]\n",
    "        itr+=1\n",
    "    return theta_list, error_list, theta\n",
    "\n",
    "\n"
   ]
  },
  {
   "cell_type": "code",
   "execution_count": 74,
   "id": "f83499ea-6413-445a-90f6-3c5359a2c14d",
   "metadata": {},
   "outputs": [
    {
     "ename": "UnboundLocalError",
     "evalue": "cannot access local variable 'error' where it is not associated with a value",
     "output_type": "error",
     "traceback": [
      "\u001b[1;31m---------------------------------------------------------------------------\u001b[0m",
      "\u001b[1;31mUnboundLocalError\u001b[0m                         Traceback (most recent call last)",
      "Cell \u001b[1;32mIn[74], line 1\u001b[0m\n\u001b[1;32m----> 1\u001b[0m theta, error_list , theta_list \u001b[38;5;241m=\u001b[39m gradientDescent(x, y)\n",
      "Cell \u001b[1;32mIn[72], line 9\u001b[0m, in \u001b[0;36mgradientDescent\u001b[1;34m(x, y, learning_ratio)\u001b[0m\n\u001b[0;32m      7\u001b[0m \u001b[38;5;28;01mwhile\u001b[39;00m(itr \u001b[38;5;241m<\u001b[39m\u001b[38;5;241m=\u001b[39m max_iteration):\n\u001b[0;32m      8\u001b[0m     grad \u001b[38;5;241m=\u001b[39m gradient(x, y, theta)\n\u001b[1;32m----> 9\u001b[0m     error \u001b[38;5;241m=\u001b[39m error(x, y, theta)\n\u001b[0;32m     10\u001b[0m     err_list\u001b[38;5;241m.\u001b[39mappend(error)\n\u001b[0;32m     11\u001b[0m     theta_list\u001b[38;5;241m.\u001b[39mappend(theta)\n",
      "\u001b[1;31mUnboundLocalError\u001b[0m: cannot access local variable 'error' where it is not associated with a value"
     ]
    }
   ],
   "source": [
    "theta, error_list , theta_list = gradientDescent(x, y)"
   ]
  },
  {
   "cell_type": "code",
   "execution_count": null,
   "id": "8ca151b0-8d38-4f95-a5c0-a95d0be44461",
   "metadata": {},
   "outputs": [],
   "source": [
    "\n"
   ]
  }
 ],
 "metadata": {
  "kernelspec": {
   "display_name": "Python 3 (ipykernel)",
   "language": "python",
   "name": "python3"
  },
  "language_info": {
   "codemirror_mode": {
    "name": "ipython",
    "version": 3
   },
   "file_extension": ".py",
   "mimetype": "text/x-python",
   "name": "python",
   "nbconvert_exporter": "python",
   "pygments_lexer": "ipython3",
   "version": "3.12.4"
  }
 },
 "nbformat": 4,
 "nbformat_minor": 5
}
