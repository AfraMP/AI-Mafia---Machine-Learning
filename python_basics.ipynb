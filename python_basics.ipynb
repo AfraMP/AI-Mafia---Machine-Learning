{
 "cells": [
  {
   "cell_type": "markdown",
   "id": "d4731240-287c-4061-ad59-c755903cf71e",
   "metadata": {},
   "source": [
    "# CLASS"
   ]
  },
  {
   "cell_type": "code",
   "execution_count": 3,
   "id": "987c9764-8d8a-48c3-b688-1d78ff889ed9",
   "metadata": {},
   "outputs": [
    {
     "name": "stdout",
     "output_type": "stream",
     "text": [
      "<__main__.Student object at 0x0000027EB6136DB0>\n"
     ]
    }
   ],
   "source": [
    "class Student:\n",
    "    pass\n",
    "p = Student()\n",
    "print(p)"
   ]
  },
  {
   "cell_type": "code",
   "execution_count": 29,
   "id": "abcb6e82-a45e-4d30-93b2-e8bce0a7807e",
   "metadata": {},
   "outputs": [],
   "source": [
    "class Student:\n",
    "    num = 0\n",
    "    def __init__(self, name):\n",
    "        self.name = name\n",
    "        Student.num += 1\n",
    "    def saHello(self):\n",
    "        print(\"hey\", self.name)\n",
    "    def destruct(self):\n",
    "        print(\"i am dying: \" , self.name)\n",
    "        Student.num-=1\n",
    "    @classmethod\n",
    "    def how_many(self):\n",
    "        print(\"Num of students\" , self.num)\n"
   ]
  },
  {
   "cell_type": "code",
   "execution_count": 35,
   "id": "8787e9a5-7286-4a69-9a0b-c26656c212b2",
   "metadata": {},
   "outputs": [
    {
     "name": "stdout",
     "output_type": "stream",
     "text": [
      "hey afra\n",
      "Num of students 5\n",
      "i am dying:  sanafer\n",
      "Num of students 4\n"
     ]
    }
   ],
   "source": [
    "stu1 = Student(\"afra\")\n",
    "stu1.saHello()\n",
    "stu2 = Student(\"sanafer\")\n",
    "Student.how_many()\n",
    "stu2.destruct()\n",
    "Student.how_many()"
   ]
  },
  {
   "cell_type": "code",
   "execution_count": 37,
   "id": "ad1a6ad9-6fc3-4b82-b29f-438789e4e7e8",
   "metadata": {},
   "outputs": [
    {
     "name": "stdout",
     "output_type": "stream",
     "text": [
      "Zero division error\n",
      "runnnig\n"
     ]
    }
   ],
   "source": [
    "try:\n",
    "    print(1/0)\n",
    "except:\n",
    "    print(\"Zero division error\")\n",
    "finally:\n",
    "    print(\"runnnig\")"
   ]
  }
 ],
 "metadata": {
  "kernelspec": {
   "display_name": "Python 3 (ipykernel)",
   "language": "python",
   "name": "python3"
  },
  "language_info": {
   "codemirror_mode": {
    "name": "ipython",
    "version": 3
   },
   "file_extension": ".py",
   "mimetype": "text/x-python",
   "name": "python",
   "nbconvert_exporter": "python",
   "pygments_lexer": "ipython3",
   "version": "3.12.4"
  }
 },
 "nbformat": 4,
 "nbformat_minor": 5
}
