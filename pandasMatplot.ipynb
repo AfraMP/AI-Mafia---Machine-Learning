{
 "cells": [
  {
   "cell_type": "code",
   "execution_count": 45,
   "id": "0d860fcf-9ce6-4ce1-b081-ef9948bc1af6",
   "metadata": {},
   "outputs": [],
   "source": [
    "import pandas as pd\n",
    "import numpy as np"
   ]
  },
  {
   "cell_type": "code",
   "execution_count": 24,
   "id": "a428dad8-7cda-4c21-bb83-d90faebc6a98",
   "metadata": {},
   "outputs": [
    {
     "data": {
      "text/plain": [
       "d    1\n",
       "e    d\n",
       "dtype: object"
      ]
     },
     "execution_count": 24,
     "metadata": {},
     "output_type": "execute_result"
    }
   ],
   "source": [
    "labels = ['a', 'b', 'c']\n",
    "lists = [1, 2, 3]\n",
    "pd.Series({'d':1, 'e':'d'})"
   ]
  },
  {
   "cell_type": "code",
   "execution_count": 26,
   "id": "0a9c1c4e-75ab-4d22-89e1-c2236b058094",
   "metadata": {},
   "outputs": [
    {
     "data": {
      "text/plain": [
       "0    1\n",
       "1    2\n",
       "2    3\n",
       "dtype: int64"
      ]
     },
     "execution_count": 26,
     "metadata": {},
     "output_type": "execute_result"
    }
   ],
   "source": [
    "pd.Series(lists)"
   ]
  },
  {
   "cell_type": "code",
   "execution_count": 28,
   "id": "bb81f7fa-9c13-4b09-92d3-a57788cb6dd5",
   "metadata": {},
   "outputs": [
    {
     "data": {
      "text/plain": [
       "a    1\n",
       "b    2\n",
       "c    3\n",
       "dtype: int64"
      ]
     },
     "execution_count": 28,
     "metadata": {},
     "output_type": "execute_result"
    }
   ],
   "source": [
    "# can update label by\n",
    "pd.Series(index=labels, data=lists)"
   ]
  },
  {
   "cell_type": "code",
   "execution_count": 30,
   "id": "0c37873e-1cb3-454d-adae-4b08aed52889",
   "metadata": {},
   "outputs": [
    {
     "data": {
      "text/plain": [
       "0      <built-in function sum>\n",
       "1    <built-in function print>\n",
       "2      <built-in function len>\n",
       "dtype: object"
      ]
     },
     "execution_count": 30,
     "metadata": {},
     "output_type": "execute_result"
    }
   ],
   "source": [
    "pd.Series([sum, print, len])"
   ]
  },
  {
   "cell_type": "code",
   "execution_count": 32,
   "id": "2c470844-0979-41b5-806e-e78b6b9ef85f",
   "metadata": {},
   "outputs": [],
   "source": [
    "s1 = pd.Series([1, 2, 3, 4], index=[\"usa\", \"india\", \"uk\", \"h\"])\n",
    "s2= pd.Series([1, 2, 3, 4], index=[\"germany\", \"canada\", \"usa\", \"h\"])"
   ]
  },
  {
   "cell_type": "code",
   "execution_count": 34,
   "id": "9cd9b6ba-0638-4ab3-bf16-257b5662b20f",
   "metadata": {},
   "outputs": [
    {
     "data": {
      "text/plain": [
       "canada     NaN\n",
       "germany    NaN\n",
       "h          8.0\n",
       "india      NaN\n",
       "uk         NaN\n",
       "usa        4.0\n",
       "dtype: float64"
      ]
     },
     "execution_count": 34,
     "metadata": {},
     "output_type": "execute_result"
    }
   ],
   "source": [
    "s1+s2"
   ]
  },
  {
   "cell_type": "markdown",
   "id": "a76e2730-8a92-4bf6-b139-35a8ab020e5e",
   "metadata": {},
   "source": [
    "## DataFrame"
   ]
  },
  {
   "cell_type": "code",
   "execution_count": 51,
   "id": "886738d4-8768-474f-bd38-247935f02074",
   "metadata": {},
   "outputs": [
    {
     "data": {
      "text/html": [
       "<div>\n",
       "<style scoped>\n",
       "    .dataframe tbody tr th:only-of-type {\n",
       "        vertical-align: middle;\n",
       "    }\n",
       "\n",
       "    .dataframe tbody tr th {\n",
       "        vertical-align: top;\n",
       "    }\n",
       "\n",
       "    .dataframe thead th {\n",
       "        text-align: right;\n",
       "    }\n",
       "</style>\n",
       "<table border=\"1\" class=\"dataframe\">\n",
       "  <thead>\n",
       "    <tr style=\"text-align: right;\">\n",
       "      <th></th>\n",
       "      <th>W</th>\n",
       "      <th>X</th>\n",
       "      <th>Y</th>\n",
       "      <th>Z</th>\n",
       "    </tr>\n",
       "  </thead>\n",
       "  <tbody>\n",
       "    <tr>\n",
       "      <th>A</th>\n",
       "      <td>1.209956</td>\n",
       "      <td>-1.580772</td>\n",
       "      <td>-0.510511</td>\n",
       "      <td>-1.140267</td>\n",
       "    </tr>\n",
       "    <tr>\n",
       "      <th>B</th>\n",
       "      <td>0.384298</td>\n",
       "      <td>-0.091131</td>\n",
       "      <td>-0.751495</td>\n",
       "      <td>-0.664583</td>\n",
       "    </tr>\n",
       "    <tr>\n",
       "      <th>C</th>\n",
       "      <td>1.301258</td>\n",
       "      <td>0.083366</td>\n",
       "      <td>1.105670</td>\n",
       "      <td>0.740232</td>\n",
       "    </tr>\n",
       "    <tr>\n",
       "      <th>D</th>\n",
       "      <td>-0.019475</td>\n",
       "      <td>-0.406570</td>\n",
       "      <td>0.602524</td>\n",
       "      <td>0.515576</td>\n",
       "    </tr>\n",
       "    <tr>\n",
       "      <th>E</th>\n",
       "      <td>1.286229</td>\n",
       "      <td>-1.393991</td>\n",
       "      <td>0.570529</td>\n",
       "      <td>-0.683699</td>\n",
       "    </tr>\n",
       "  </tbody>\n",
       "</table>\n",
       "</div>"
      ],
      "text/plain": [
       "          W         X         Y         Z\n",
       "A  1.209956 -1.580772 -0.510511 -1.140267\n",
       "B  0.384298 -0.091131 -0.751495 -0.664583\n",
       "C  1.301258  0.083366  1.105670  0.740232\n",
       "D -0.019475 -0.406570  0.602524  0.515576\n",
       "E  1.286229 -1.393991  0.570529 -0.683699"
      ]
     },
     "execution_count": 51,
     "metadata": {},
     "output_type": "execute_result"
    }
   ],
   "source": [
    "df =pd.DataFrame(np.random.randn(5, 4), index='A B C D E'.split(), columns='W X Y Z'.split())\n",
    "df"
   ]
  },
  {
   "cell_type": "code",
   "execution_count": 53,
   "id": "eec64167-e83a-4594-ab4b-d462f0fcf47a",
   "metadata": {},
   "outputs": [
    {
     "data": {
      "text/plain": [
       "A    1.209956\n",
       "B    0.384298\n",
       "C    1.301258\n",
       "D   -0.019475\n",
       "E    1.286229\n",
       "Name: W, dtype: float64"
      ]
     },
     "execution_count": 53,
     "metadata": {},
     "output_type": "execute_result"
    }
   ],
   "source": [
    "df['W']"
   ]
  },
  {
   "cell_type": "code",
   "execution_count": 65,
   "id": "1d82b23a-bf8f-4806-940b-f3c5391415e2",
   "metadata": {},
   "outputs": [
    {
     "name": "stdout",
     "output_type": "stream",
     "text": [
      "<class 'pandas.core.frame.DataFrame'>\n",
      "<class 'pandas.core.series.Series'>\n"
     ]
    }
   ],
   "source": [
    "print(type(df))\n",
    "print(type(df['W']))"
   ]
  },
  {
   "cell_type": "code",
   "execution_count": 61,
   "id": "231cb3c3-cfe7-467a-8298-34f741f00099",
   "metadata": {},
   "outputs": [
    {
     "data": {
      "text/plain": [
       "numpy.float64"
      ]
     },
     "execution_count": 61,
     "metadata": {},
     "output_type": "execute_result"
    }
   ],
   "source": [
    "type(df['W']['A'])"
   ]
  },
  {
   "cell_type": "code",
   "execution_count": 67,
   "id": "8192ac4b-ed79-40de-9767-9fd671e9e71a",
   "metadata": {},
   "outputs": [
    {
     "data": {
      "text/html": [
       "<div>\n",
       "<style scoped>\n",
       "    .dataframe tbody tr th:only-of-type {\n",
       "        vertical-align: middle;\n",
       "    }\n",
       "\n",
       "    .dataframe tbody tr th {\n",
       "        vertical-align: top;\n",
       "    }\n",
       "\n",
       "    .dataframe thead th {\n",
       "        text-align: right;\n",
       "    }\n",
       "</style>\n",
       "<table border=\"1\" class=\"dataframe\">\n",
       "  <thead>\n",
       "    <tr style=\"text-align: right;\">\n",
       "      <th></th>\n",
       "      <th>W</th>\n",
       "      <th>X</th>\n",
       "    </tr>\n",
       "  </thead>\n",
       "  <tbody>\n",
       "    <tr>\n",
       "      <th>A</th>\n",
       "      <td>1.209956</td>\n",
       "      <td>-1.580772</td>\n",
       "    </tr>\n",
       "    <tr>\n",
       "      <th>B</th>\n",
       "      <td>0.384298</td>\n",
       "      <td>-0.091131</td>\n",
       "    </tr>\n",
       "    <tr>\n",
       "      <th>C</th>\n",
       "      <td>1.301258</td>\n",
       "      <td>0.083366</td>\n",
       "    </tr>\n",
       "    <tr>\n",
       "      <th>D</th>\n",
       "      <td>-0.019475</td>\n",
       "      <td>-0.406570</td>\n",
       "    </tr>\n",
       "    <tr>\n",
       "      <th>E</th>\n",
       "      <td>1.286229</td>\n",
       "      <td>-1.393991</td>\n",
       "    </tr>\n",
       "  </tbody>\n",
       "</table>\n",
       "</div>"
      ],
      "text/plain": [
       "          W         X\n",
       "A  1.209956 -1.580772\n",
       "B  0.384298 -0.091131\n",
       "C  1.301258  0.083366\n",
       "D -0.019475 -0.406570\n",
       "E  1.286229 -1.393991"
      ]
     },
     "execution_count": 67,
     "metadata": {},
     "output_type": "execute_result"
    }
   ],
   "source": [
    "df[['W', 'X']]"
   ]
  },
  {
   "cell_type": "code",
   "execution_count": 69,
   "id": "2125bd66-a02c-4671-9b2a-34353d9d203e",
   "metadata": {},
   "outputs": [],
   "source": [
    "df['new'] = df['W'] + df['Y']"
   ]
  },
  {
   "cell_type": "code",
   "execution_count": 71,
   "id": "f48d4d7f-d9c8-4689-9779-97204a84879c",
   "metadata": {},
   "outputs": [
    {
     "data": {
      "text/html": [
       "<div>\n",
       "<style scoped>\n",
       "    .dataframe tbody tr th:only-of-type {\n",
       "        vertical-align: middle;\n",
       "    }\n",
       "\n",
       "    .dataframe tbody tr th {\n",
       "        vertical-align: top;\n",
       "    }\n",
       "\n",
       "    .dataframe thead th {\n",
       "        text-align: right;\n",
       "    }\n",
       "</style>\n",
       "<table border=\"1\" class=\"dataframe\">\n",
       "  <thead>\n",
       "    <tr style=\"text-align: right;\">\n",
       "      <th></th>\n",
       "      <th>W</th>\n",
       "      <th>X</th>\n",
       "      <th>Y</th>\n",
       "      <th>Z</th>\n",
       "      <th>new</th>\n",
       "    </tr>\n",
       "  </thead>\n",
       "  <tbody>\n",
       "    <tr>\n",
       "      <th>A</th>\n",
       "      <td>1.209956</td>\n",
       "      <td>-1.580772</td>\n",
       "      <td>-0.510511</td>\n",
       "      <td>-1.140267</td>\n",
       "      <td>0.699445</td>\n",
       "    </tr>\n",
       "    <tr>\n",
       "      <th>B</th>\n",
       "      <td>0.384298</td>\n",
       "      <td>-0.091131</td>\n",
       "      <td>-0.751495</td>\n",
       "      <td>-0.664583</td>\n",
       "      <td>-0.367197</td>\n",
       "    </tr>\n",
       "    <tr>\n",
       "      <th>C</th>\n",
       "      <td>1.301258</td>\n",
       "      <td>0.083366</td>\n",
       "      <td>1.105670</td>\n",
       "      <td>0.740232</td>\n",
       "      <td>2.406927</td>\n",
       "    </tr>\n",
       "    <tr>\n",
       "      <th>D</th>\n",
       "      <td>-0.019475</td>\n",
       "      <td>-0.406570</td>\n",
       "      <td>0.602524</td>\n",
       "      <td>0.515576</td>\n",
       "      <td>0.583048</td>\n",
       "    </tr>\n",
       "    <tr>\n",
       "      <th>E</th>\n",
       "      <td>1.286229</td>\n",
       "      <td>-1.393991</td>\n",
       "      <td>0.570529</td>\n",
       "      <td>-0.683699</td>\n",
       "      <td>1.856758</td>\n",
       "    </tr>\n",
       "  </tbody>\n",
       "</table>\n",
       "</div>"
      ],
      "text/plain": [
       "          W         X         Y         Z       new\n",
       "A  1.209956 -1.580772 -0.510511 -1.140267  0.699445\n",
       "B  0.384298 -0.091131 -0.751495 -0.664583 -0.367197\n",
       "C  1.301258  0.083366  1.105670  0.740232  2.406927\n",
       "D -0.019475 -0.406570  0.602524  0.515576  0.583048\n",
       "E  1.286229 -1.393991  0.570529 -0.683699  1.856758"
      ]
     },
     "execution_count": 71,
     "metadata": {},
     "output_type": "execute_result"
    }
   ],
   "source": [
    "df"
   ]
  },
  {
   "cell_type": "code",
   "execution_count": 73,
   "id": "3dd7690a-89b1-4d9a-94d9-1033d7ebc054",
   "metadata": {},
   "outputs": [
    {
     "data": {
      "text/html": [
       "<div>\n",
       "<style scoped>\n",
       "    .dataframe tbody tr th:only-of-type {\n",
       "        vertical-align: middle;\n",
       "    }\n",
       "\n",
       "    .dataframe tbody tr th {\n",
       "        vertical-align: top;\n",
       "    }\n",
       "\n",
       "    .dataframe thead th {\n",
       "        text-align: right;\n",
       "    }\n",
       "</style>\n",
       "<table border=\"1\" class=\"dataframe\">\n",
       "  <thead>\n",
       "    <tr style=\"text-align: right;\">\n",
       "      <th></th>\n",
       "      <th>W</th>\n",
       "      <th>X</th>\n",
       "      <th>Y</th>\n",
       "      <th>Z</th>\n",
       "    </tr>\n",
       "  </thead>\n",
       "  <tbody>\n",
       "    <tr>\n",
       "      <th>A</th>\n",
       "      <td>1.209956</td>\n",
       "      <td>-1.580772</td>\n",
       "      <td>-0.510511</td>\n",
       "      <td>-1.140267</td>\n",
       "    </tr>\n",
       "    <tr>\n",
       "      <th>B</th>\n",
       "      <td>0.384298</td>\n",
       "      <td>-0.091131</td>\n",
       "      <td>-0.751495</td>\n",
       "      <td>-0.664583</td>\n",
       "    </tr>\n",
       "    <tr>\n",
       "      <th>C</th>\n",
       "      <td>1.301258</td>\n",
       "      <td>0.083366</td>\n",
       "      <td>1.105670</td>\n",
       "      <td>0.740232</td>\n",
       "    </tr>\n",
       "    <tr>\n",
       "      <th>D</th>\n",
       "      <td>-0.019475</td>\n",
       "      <td>-0.406570</td>\n",
       "      <td>0.602524</td>\n",
       "      <td>0.515576</td>\n",
       "    </tr>\n",
       "    <tr>\n",
       "      <th>E</th>\n",
       "      <td>1.286229</td>\n",
       "      <td>-1.393991</td>\n",
       "      <td>0.570529</td>\n",
       "      <td>-0.683699</td>\n",
       "    </tr>\n",
       "  </tbody>\n",
       "</table>\n",
       "</div>"
      ],
      "text/plain": [
       "          W         X         Y         Z\n",
       "A  1.209956 -1.580772 -0.510511 -1.140267\n",
       "B  0.384298 -0.091131 -0.751495 -0.664583\n",
       "C  1.301258  0.083366  1.105670  0.740232\n",
       "D -0.019475 -0.406570  0.602524  0.515576\n",
       "E  1.286229 -1.393991  0.570529 -0.683699"
      ]
     },
     "execution_count": 73,
     "metadata": {},
     "output_type": "execute_result"
    }
   ],
   "source": [
    "df.drop('new', axis=1)"
   ]
  },
  {
   "cell_type": "code",
   "execution_count": 75,
   "id": "fb2956c9-d7e9-432c-85a0-df61a3b26e19",
   "metadata": {},
   "outputs": [
    {
     "data": {
      "text/html": [
       "<div>\n",
       "<style scoped>\n",
       "    .dataframe tbody tr th:only-of-type {\n",
       "        vertical-align: middle;\n",
       "    }\n",
       "\n",
       "    .dataframe tbody tr th {\n",
       "        vertical-align: top;\n",
       "    }\n",
       "\n",
       "    .dataframe thead th {\n",
       "        text-align: right;\n",
       "    }\n",
       "</style>\n",
       "<table border=\"1\" class=\"dataframe\">\n",
       "  <thead>\n",
       "    <tr style=\"text-align: right;\">\n",
       "      <th></th>\n",
       "      <th>W</th>\n",
       "      <th>X</th>\n",
       "      <th>Y</th>\n",
       "      <th>Z</th>\n",
       "      <th>new</th>\n",
       "    </tr>\n",
       "  </thead>\n",
       "  <tbody>\n",
       "    <tr>\n",
       "      <th>A</th>\n",
       "      <td>1.209956</td>\n",
       "      <td>-1.580772</td>\n",
       "      <td>-0.510511</td>\n",
       "      <td>-1.140267</td>\n",
       "      <td>0.699445</td>\n",
       "    </tr>\n",
       "    <tr>\n",
       "      <th>B</th>\n",
       "      <td>0.384298</td>\n",
       "      <td>-0.091131</td>\n",
       "      <td>-0.751495</td>\n",
       "      <td>-0.664583</td>\n",
       "      <td>-0.367197</td>\n",
       "    </tr>\n",
       "    <tr>\n",
       "      <th>C</th>\n",
       "      <td>1.301258</td>\n",
       "      <td>0.083366</td>\n",
       "      <td>1.105670</td>\n",
       "      <td>0.740232</td>\n",
       "      <td>2.406927</td>\n",
       "    </tr>\n",
       "    <tr>\n",
       "      <th>D</th>\n",
       "      <td>-0.019475</td>\n",
       "      <td>-0.406570</td>\n",
       "      <td>0.602524</td>\n",
       "      <td>0.515576</td>\n",
       "      <td>0.583048</td>\n",
       "    </tr>\n",
       "    <tr>\n",
       "      <th>E</th>\n",
       "      <td>1.286229</td>\n",
       "      <td>-1.393991</td>\n",
       "      <td>0.570529</td>\n",
       "      <td>-0.683699</td>\n",
       "      <td>1.856758</td>\n",
       "    </tr>\n",
       "  </tbody>\n",
       "</table>\n",
       "</div>"
      ],
      "text/plain": [
       "          W         X         Y         Z       new\n",
       "A  1.209956 -1.580772 -0.510511 -1.140267  0.699445\n",
       "B  0.384298 -0.091131 -0.751495 -0.664583 -0.367197\n",
       "C  1.301258  0.083366  1.105670  0.740232  2.406927\n",
       "D -0.019475 -0.406570  0.602524  0.515576  0.583048\n",
       "E  1.286229 -1.393991  0.570529 -0.683699  1.856758"
      ]
     },
     "execution_count": 75,
     "metadata": {},
     "output_type": "execute_result"
    }
   ],
   "source": [
    "df"
   ]
  },
  {
   "cell_type": "code",
   "execution_count": 77,
   "id": "31f350d8-69f9-4885-a01e-bf3fff91cb84",
   "metadata": {},
   "outputs": [],
   "source": [
    "df.drop('new', axis=1, inplace= True)"
   ]
  },
  {
   "cell_type": "code",
   "execution_count": 79,
   "id": "da0fdbf8-5b9b-437f-b543-b292f7352163",
   "metadata": {},
   "outputs": [
    {
     "data": {
      "text/html": [
       "<div>\n",
       "<style scoped>\n",
       "    .dataframe tbody tr th:only-of-type {\n",
       "        vertical-align: middle;\n",
       "    }\n",
       "\n",
       "    .dataframe tbody tr th {\n",
       "        vertical-align: top;\n",
       "    }\n",
       "\n",
       "    .dataframe thead th {\n",
       "        text-align: right;\n",
       "    }\n",
       "</style>\n",
       "<table border=\"1\" class=\"dataframe\">\n",
       "  <thead>\n",
       "    <tr style=\"text-align: right;\">\n",
       "      <th></th>\n",
       "      <th>W</th>\n",
       "      <th>X</th>\n",
       "      <th>Y</th>\n",
       "      <th>Z</th>\n",
       "    </tr>\n",
       "  </thead>\n",
       "  <tbody>\n",
       "    <tr>\n",
       "      <th>A</th>\n",
       "      <td>1.209956</td>\n",
       "      <td>-1.580772</td>\n",
       "      <td>-0.510511</td>\n",
       "      <td>-1.140267</td>\n",
       "    </tr>\n",
       "    <tr>\n",
       "      <th>B</th>\n",
       "      <td>0.384298</td>\n",
       "      <td>-0.091131</td>\n",
       "      <td>-0.751495</td>\n",
       "      <td>-0.664583</td>\n",
       "    </tr>\n",
       "    <tr>\n",
       "      <th>C</th>\n",
       "      <td>1.301258</td>\n",
       "      <td>0.083366</td>\n",
       "      <td>1.105670</td>\n",
       "      <td>0.740232</td>\n",
       "    </tr>\n",
       "    <tr>\n",
       "      <th>D</th>\n",
       "      <td>-0.019475</td>\n",
       "      <td>-0.406570</td>\n",
       "      <td>0.602524</td>\n",
       "      <td>0.515576</td>\n",
       "    </tr>\n",
       "    <tr>\n",
       "      <th>E</th>\n",
       "      <td>1.286229</td>\n",
       "      <td>-1.393991</td>\n",
       "      <td>0.570529</td>\n",
       "      <td>-0.683699</td>\n",
       "    </tr>\n",
       "  </tbody>\n",
       "</table>\n",
       "</div>"
      ],
      "text/plain": [
       "          W         X         Y         Z\n",
       "A  1.209956 -1.580772 -0.510511 -1.140267\n",
       "B  0.384298 -0.091131 -0.751495 -0.664583\n",
       "C  1.301258  0.083366  1.105670  0.740232\n",
       "D -0.019475 -0.406570  0.602524  0.515576\n",
       "E  1.286229 -1.393991  0.570529 -0.683699"
      ]
     },
     "execution_count": 79,
     "metadata": {},
     "output_type": "execute_result"
    }
   ],
   "source": [
    "df"
   ]
  },
  {
   "cell_type": "code",
   "execution_count": 81,
   "id": "4beff328-c8d3-4171-b6c0-d60300dfbe14",
   "metadata": {},
   "outputs": [
    {
     "data": {
      "text/plain": [
       "W    1.209956\n",
       "X   -1.580772\n",
       "Y   -0.510511\n",
       "Z   -1.140267\n",
       "Name: A, dtype: float64"
      ]
     },
     "execution_count": 81,
     "metadata": {},
     "output_type": "execute_result"
    }
   ],
   "source": [
    "df.loc['A']"
   ]
  },
  {
   "cell_type": "code",
   "execution_count": 83,
   "id": "11ec02b0-70f4-4da3-9206-3e4fa84b44e8",
   "metadata": {},
   "outputs": [
    {
     "data": {
      "text/plain": [
       "W    1.301258\n",
       "X    0.083366\n",
       "Y    1.105670\n",
       "Z    0.740232\n",
       "Name: C, dtype: float64"
      ]
     },
     "execution_count": 83,
     "metadata": {},
     "output_type": "execute_result"
    }
   ],
   "source": [
    "df.iloc[2]"
   ]
  },
  {
   "cell_type": "code",
   "execution_count": 85,
   "id": "3fa61259-5cff-4da9-8cff-a77569d838d5",
   "metadata": {},
   "outputs": [
    {
     "data": {
      "text/plain": [
       "-0.7514950578294973"
      ]
     },
     "execution_count": 85,
     "metadata": {},
     "output_type": "execute_result"
    }
   ],
   "source": [
    "df.loc['B', 'Y']"
   ]
  },
  {
   "cell_type": "code",
   "execution_count": 95,
   "id": "cc645faa-5d3d-4fab-a06c-d6ccbff6a3a4",
   "metadata": {},
   "outputs": [
    {
     "data": {
      "text/html": [
       "<div>\n",
       "<style scoped>\n",
       "    .dataframe tbody tr th:only-of-type {\n",
       "        vertical-align: middle;\n",
       "    }\n",
       "\n",
       "    .dataframe tbody tr th {\n",
       "        vertical-align: top;\n",
       "    }\n",
       "\n",
       "    .dataframe thead th {\n",
       "        text-align: right;\n",
       "    }\n",
       "</style>\n",
       "<table border=\"1\" class=\"dataframe\">\n",
       "  <thead>\n",
       "    <tr style=\"text-align: right;\">\n",
       "      <th></th>\n",
       "      <th>W</th>\n",
       "      <th>Y</th>\n",
       "    </tr>\n",
       "  </thead>\n",
       "  <tbody>\n",
       "    <tr>\n",
       "      <th>A</th>\n",
       "      <td>1.209956</td>\n",
       "      <td>-0.510511</td>\n",
       "    </tr>\n",
       "  </tbody>\n",
       "</table>\n",
       "</div>"
      ],
      "text/plain": [
       "          W         Y\n",
       "A  1.209956 -0.510511"
      ]
     },
     "execution_count": 95,
     "metadata": {},
     "output_type": "execute_result"
    }
   ],
   "source": [
    "df.loc[['A', 'B'],['W', 'Y']]"
   ]
  },
  {
   "cell_type": "code",
   "execution_count": 97,
   "id": "1167dd8a-23a5-45b9-8ecc-f16a7c61b757",
   "metadata": {},
   "outputs": [
    {
     "data": {
      "text/html": [
       "<div>\n",
       "<style scoped>\n",
       "    .dataframe tbody tr th:only-of-type {\n",
       "        vertical-align: middle;\n",
       "    }\n",
       "\n",
       "    .dataframe tbody tr th {\n",
       "        vertical-align: top;\n",
       "    }\n",
       "\n",
       "    .dataframe thead th {\n",
       "        text-align: right;\n",
       "    }\n",
       "</style>\n",
       "<table border=\"1\" class=\"dataframe\">\n",
       "  <thead>\n",
       "    <tr style=\"text-align: right;\">\n",
       "      <th></th>\n",
       "      <th>W</th>\n",
       "      <th>X</th>\n",
       "      <th>Y</th>\n",
       "      <th>Z</th>\n",
       "    </tr>\n",
       "  </thead>\n",
       "  <tbody>\n",
       "    <tr>\n",
       "      <th>A</th>\n",
       "      <td>True</td>\n",
       "      <td>False</td>\n",
       "      <td>False</td>\n",
       "      <td>False</td>\n",
       "    </tr>\n",
       "    <tr>\n",
       "      <th>B</th>\n",
       "      <td>True</td>\n",
       "      <td>False</td>\n",
       "      <td>False</td>\n",
       "      <td>False</td>\n",
       "    </tr>\n",
       "    <tr>\n",
       "      <th>C</th>\n",
       "      <td>True</td>\n",
       "      <td>True</td>\n",
       "      <td>True</td>\n",
       "      <td>True</td>\n",
       "    </tr>\n",
       "    <tr>\n",
       "      <th>D</th>\n",
       "      <td>False</td>\n",
       "      <td>False</td>\n",
       "      <td>True</td>\n",
       "      <td>True</td>\n",
       "    </tr>\n",
       "    <tr>\n",
       "      <th>E</th>\n",
       "      <td>True</td>\n",
       "      <td>False</td>\n",
       "      <td>True</td>\n",
       "      <td>False</td>\n",
       "    </tr>\n",
       "  </tbody>\n",
       "</table>\n",
       "</div>"
      ],
      "text/plain": [
       "       W      X      Y      Z\n",
       "A   True  False  False  False\n",
       "B   True  False  False  False\n",
       "C   True   True   True   True\n",
       "D  False  False   True   True\n",
       "E   True  False   True  False"
      ]
     },
     "execution_count": 97,
     "metadata": {},
     "output_type": "execute_result"
    }
   ],
   "source": [
    "df > 0"
   ]
  },
  {
   "cell_type": "code",
   "execution_count": 99,
   "id": "8f2d00f3-689b-449c-a57d-a713950c11ff",
   "metadata": {},
   "outputs": [
    {
     "data": {
      "text/html": [
       "<div>\n",
       "<style scoped>\n",
       "    .dataframe tbody tr th:only-of-type {\n",
       "        vertical-align: middle;\n",
       "    }\n",
       "\n",
       "    .dataframe tbody tr th {\n",
       "        vertical-align: top;\n",
       "    }\n",
       "\n",
       "    .dataframe thead th {\n",
       "        text-align: right;\n",
       "    }\n",
       "</style>\n",
       "<table border=\"1\" class=\"dataframe\">\n",
       "  <thead>\n",
       "    <tr style=\"text-align: right;\">\n",
       "      <th></th>\n",
       "      <th>W</th>\n",
       "      <th>X</th>\n",
       "      <th>Y</th>\n",
       "      <th>Z</th>\n",
       "    </tr>\n",
       "  </thead>\n",
       "  <tbody>\n",
       "    <tr>\n",
       "      <th>A</th>\n",
       "      <td>1.209956</td>\n",
       "      <td>NaN</td>\n",
       "      <td>NaN</td>\n",
       "      <td>NaN</td>\n",
       "    </tr>\n",
       "    <tr>\n",
       "      <th>B</th>\n",
       "      <td>0.384298</td>\n",
       "      <td>NaN</td>\n",
       "      <td>NaN</td>\n",
       "      <td>NaN</td>\n",
       "    </tr>\n",
       "    <tr>\n",
       "      <th>C</th>\n",
       "      <td>1.301258</td>\n",
       "      <td>0.083366</td>\n",
       "      <td>1.105670</td>\n",
       "      <td>0.740232</td>\n",
       "    </tr>\n",
       "    <tr>\n",
       "      <th>D</th>\n",
       "      <td>NaN</td>\n",
       "      <td>NaN</td>\n",
       "      <td>0.602524</td>\n",
       "      <td>0.515576</td>\n",
       "    </tr>\n",
       "    <tr>\n",
       "      <th>E</th>\n",
       "      <td>1.286229</td>\n",
       "      <td>NaN</td>\n",
       "      <td>0.570529</td>\n",
       "      <td>NaN</td>\n",
       "    </tr>\n",
       "  </tbody>\n",
       "</table>\n",
       "</div>"
      ],
      "text/plain": [
       "          W         X         Y         Z\n",
       "A  1.209956       NaN       NaN       NaN\n",
       "B  0.384298       NaN       NaN       NaN\n",
       "C  1.301258  0.083366  1.105670  0.740232\n",
       "D       NaN       NaN  0.602524  0.515576\n",
       "E  1.286229       NaN  0.570529       NaN"
      ]
     },
     "execution_count": 99,
     "metadata": {},
     "output_type": "execute_result"
    }
   ],
   "source": [
    "df[df>0]"
   ]
  },
  {
   "cell_type": "code",
   "execution_count": 103,
   "id": "617e97d9-b39f-4b06-8483-be5aa4617a77",
   "metadata": {},
   "outputs": [],
   "source": [
    "import matplotlib.pyplot as plt"
   ]
  },
  {
   "cell_type": "code",
   "execution_count": 105,
   "id": "27f7e524-3ff7-4df2-8e9b-a369e5ed3d5f",
   "metadata": {},
   "outputs": [],
   "source": [
    "x= [1, 2, 3]\n",
    "y = [2,4, 1]"
   ]
  },
  {
   "cell_type": "code",
   "execution_count": 109,
   "id": "eefd5406-9efd-4bea-b9f8-2714ffcdc92a",
   "metadata": {},
   "outputs": [
    {
     "data": {
      "image/png": "[encoded data removed]",
      "text/plain": [
       "<Figure size 640x480 with 1 Axes>"
      ]
     },
     "metadata": {},
     "output_type": "display_data"
    }
   ],
   "source": [
    "plt.scatter(x, y)\n",
    "plt.show()"
   ]
  },
  {
   "cell_type": "code",
   "execution_count": 111,
   "id": "7085d643-e4e0-4259-9dc8-c7ad17519eeb",
   "metadata": {},
   "outputs": [
    {
     "data": {
      "image/png": "[encoded data removed]",
      "text/plain": [
       "<Figure size 640x480 with 1 Axes>"
      ]
     },
     "metadata": {},
     "output_type": "display_data"
    }
   ],
   "source": [
    "plt.xlabel('x-axis')\n",
    "plt.ylabel('y-axis')\n",
    "plt.plot(x, y)\n",
    "plt.title('codin')\n",
    "plt.show()"
   ]
  },
  {
   "cell_type": "code",
   "execution_count": 117,
   "id": "9f0cb53a-02bd-4aa3-9403-f3b0abf51676",
   "metadata": {},
   "outputs": [
    {
     "data": {
      "image/png": "[encoded data removed]",
      "text/plain": [
       "<Figure size 640x480 with 1 Axes>"
      ]
     },
     "metadata": {},
     "output_type": "display_data"
    }
   ],
   "source": [
    "plt.xlabel('x-axis')\n",
    "plt.ylabel('y-axis')\n",
    "plt.plot(x, y, label='line1')\n",
    "plt.plot([2,4 , 6], [4,2,6], label='line 2')\n",
    "plt.title('d')\n",
    "plt.legend()\n",
    "plt.show()"
   ]
  },
  {
   "cell_type": "code",
   "execution_count": 119,
   "id": "1dfdb2b1-8c17-438b-b81b-e9d6c91105ed",
   "metadata": {},
   "outputs": [
    {
     "data": {
      "text/plain": [
       "['Solarize_Light2',\n",
       " '_classic_test_patch',\n",
       " '_mpl-gallery',\n",
       " '_mpl-gallery-nogrid',\n",
       " 'bmh',\n",
       " 'classic',\n",
       " 'dark_background',\n",
       " 'fast',\n",
       " 'fivethirtyeight',\n",
       " 'ggplot',\n",
       " 'grayscale',\n",
       " 'seaborn-v0_8',\n",
       " 'seaborn-v0_8-bright',\n",
       " 'seaborn-v0_8-colorblind',\n",
       " 'seaborn-v0_8-dark',\n",
       " 'seaborn-v0_8-dark-palette',\n",
       " 'seaborn-v0_8-darkgrid',\n",
       " 'seaborn-v0_8-deep',\n",
       " 'seaborn-v0_8-muted',\n",
       " 'seaborn-v0_8-notebook',\n",
       " 'seaborn-v0_8-paper',\n",
       " 'seaborn-v0_8-pastel',\n",
       " 'seaborn-v0_8-poster',\n",
       " 'seaborn-v0_8-talk',\n",
       " 'seaborn-v0_8-ticks',\n",
       " 'seaborn-v0_8-white',\n",
       " 'seaborn-v0_8-whitegrid',\n",
       " 'tableau-colorblind10']"
      ]
     },
     "execution_count": 119,
     "metadata": {},
     "output_type": "execute_result"
    }
   ],
   "source": [
    "plt.style.available"
   ]
  },
  {
   "cell_type": "code",
   "execution_count": 121,
   "id": "583485a1-ffcc-41c2-9afb-a37d3e9523ac",
   "metadata": {},
   "outputs": [],
   "source": [
    "plt.style.use('fivethirtyeight')"
   ]
  },
  {
   "cell_type": "code",
   "execution_count": 139,
   "id": "3471a727-a25e-45c1-b454-1bb422243d95",
   "metadata": {},
   "outputs": [
    {
     "data": {
      "text/plain": [
       "[<matplotlib.lines.Line2D at 0x17a609eb0b0>]"
      ]
     },
     "execution_count": 139,
     "metadata": {},
     "output_type": "execute_result"
    },
    {
     "data": {
      "image/png": "[encoded data removed]",
      "text/plain": [
       "<Figure size 640x480 with 1 Axes>"
      ]
     },
     "metadata": {},
     "output_type": "display_data"
    }
   ],
   "source": [
    "plt.plot(x, y, linestyle=\"dashed\", marker='o' ,markerfacecolor='blue' ,markersize=8 ,color='green' , linewidth=3)"
   ]
  },
  {
   "cell_type": "code",
   "execution_count": 141,
   "id": "e879d460-a34f-420b-ab62-f2d421f115ed",
   "metadata": {},
   "outputs": [
    {
     "data": {
      "text/plain": [
       "(1.0, 5.0)"
      ]
     },
     "execution_count": 141,
     "metadata": {},
     "output_type": "execute_result"
    },
    {
     "data": {
      "image/png": "[encoded data removed]",
      "text/plain": [
       "<Figure size 640x480 with 1 Axes>"
      ]
     },
     "metadata": {},
     "output_type": "display_data"
    }
   ],
   "source": [
    "plt.xlim(1, 8)\n",
    "plt.plot(x, y, linestyle=\"dashed\", marker='o' ,markerfacecolor='blue' ,markersize=8 ,color='green' )\n",
    "plt.ylim(1, 5)"
   ]
  },
  {
   "cell_type": "code",
   "execution_count": 143,
   "id": "c5900a81-4aae-46dd-9fe2-c85085a19cbb",
   "metadata": {},
   "outputs": [],
   "source": [
    "## bar chart"
   ]
  },
  {
   "cell_type": "code",
   "execution_count": 157,
   "id": "508c4574-9eb3-4ad8-ac81-19a2cf89be88",
   "metadata": {},
   "outputs": [
    {
     "data": {
      "text/plain": [
       "<BarContainer object of 5 artists>"
      ]
     },
     "execution_count": 157,
     "metadata": {},
     "output_type": "execute_result"
    },
    {
     "data": {
      "image/png": "[encoded data removed]",
      "text/plain": [
       "<Figure size 640x480 with 1 Axes>"
      ]
     },
     "metadata": {},
     "output_type": "display_data"
    }
   ],
   "source": [
    "x = [1, 2, 3, 4, 5]\n",
    "y = [34, 23 ,65, 21, 54]\n",
    "l = ['one', 'two', 'three','four', 'five']\n",
    "plt.bar(x, y, tick_label=l ,width=0.8, color=['red','blue'])"
   ]
  },
  {
   "cell_type": "code",
   "execution_count": 161,
   "id": "e50de3d9-525f-47dd-b2e0-4e27a98a9806",
   "metadata": {},
   "outputs": [
    {
     "data": {
      "text/plain": [
       "(array([0., 0., 0., 0., 2., 0., 1., 0., 0., 0.]),\n",
       " array([ 0.,  5., 10., 15., 20., 25., 30., 35., 40., 45., 50.]),\n",
       " <BarContainer object of 10 artists>)"
      ]
     },
     "execution_count": 161,
     "metadata": {},
     "output_type": "execute_result"
    },
    {
     "data": {
      "image/png": "[encoded data removed]",
      "text/plain": [
       "<Figure size 640x480 with 1 Axes>"
      ]
     },
     "metadata": {},
     "output_type": "display_data"
    }
   ],
   "source": [
    "range =(0, 50)\n",
    "bins=10\n",
    "plt.hist(y, bins, range, color='red', histtype='bar', rwidth=0.8)"
   ]
  },
  {
   "cell_type": "code",
   "execution_count": 171,
   "id": "6bf3be42-edbf-45b6-ad8b-ba9a754179a4",
   "metadata": {},
   "outputs": [
    {
     "data": {
      "text/plain": [
       "([<matplotlib.patches.Wedge at 0x17a61157080>,\n",
       "  <matplotlib.patches.Wedge at 0x17a61156fc0>,\n",
       "  <matplotlib.patches.Wedge at 0x17a61157920>,\n",
       "  <matplotlib.patches.Wedge at 0x17a61188050>],\n",
       " [Text(-0.6948904704504706, 1.1222866095953938, 'sleep'),\n",
       "  Text(-1.6543400919992595, -0.47070039303561456, 'f'),\n",
       "  Text(0.9566478659934677, -1.0493926150350708, 'ff'),\n",
       "  Text(0.6948903653744123, 1.1222866746557298, 'fg')],\n",
       " [Text(-0.3790311657002567, 0.6121563325065784, '17.6%'),\n",
       "  Text(-1.077244711069285, -0.30650258151156295, '23.5%'),\n",
       "  Text(0.5524304578272137, -0.6059872847385619, '41.2%'),\n",
       "  Text(0.37903110838604304, 0.6121563679940344, '17.6%')])"
      ]
     },
     "execution_count": 171,
     "metadata": {},
     "output_type": "execute_result"
    },
    {
     "data": {
      "image/png": "[encoded data removed]",
      "text/plain": [
       "<Figure size 640x480 with 1 Axes>"
      ]
     },
     "metadata": {},
     "output_type": "display_data"
    }
   ],
   "source": [
    "activit = ['sleep','f','ff', 'fg']\n",
    "slice =[3, 4, 7, 3]\n",
    "colors=['r','m','g','b']\n",
    "plt.pie(slice, labels=activit, colors=colors, startangle=90, shadow=True, explode=(0, 0.4, 0.1, 0), radius=1.2, autopct='%1.1f%%')"
   ]
  },
  {
   "cell_type": "code",
   "execution_count": 187,
   "id": "bbcf543d-bc7e-45e2-9c8e-cadc3eacb560",
   "metadata": {},
   "outputs": [],
   "source": [
    "x = np.arange(0, 2*(np.pi), 0.1)\n",
    "y = np.sin(x)"
   ]
  },
  {
   "cell_type": "code",
   "execution_count": 189,
   "id": "b51cdcd7-a756-4a08-a15b-d515d5efadbf",
   "metadata": {},
   "outputs": [
    {
     "data": {
      "text/plain": [
       "[<matplotlib.lines.Line2D at 0x17a62963380>]"
      ]
     },
     "execution_count": 189,
     "metadata": {},
     "output_type": "execute_result"
    },
    {
     "data": {
      "image/png": "[encoded data removed]",
      "text/plain": [
       "<Figure size 640x480 with 1 Axes>"
      ]
     },
     "metadata": {},
     "output_type": "display_data"
    }
   ],
   "source": [
    "plt.plot(x, y)"
   ]
  },
  {
   "cell_type": "code",
   "execution_count": 191,
   "id": "90b20749-263a-4107-b3ed-69fa91ee359b",
   "metadata": {},
   "outputs": [],
   "source": [
    "def create_plot(ptype):\n",
    "    x = np.arange(-10, 10, 0.01)\n",
    "    if ptype == 'linear':\n",
    "        y = x\n",
    "    elif ptype == 'quadratic':\n",
    "        y=x**2\n",
    "    elif ptype == 'cubic':\n",
    "        y=x**3\n",
    "    return (x, y)"
   ]
  },
  {
   "cell_type": "code",
   "execution_count": 193,
   "id": "e34f1be8-f16a-44a2-9504-6d7c5788f52a",
   "metadata": {},
   "outputs": [
    {
     "data": {
      "text/plain": [
       "<Figure size 640x480 with 0 Axes>"
      ]
     },
     "metadata": {},
     "output_type": "display_data"
    }
   ],
   "source": [
    "fig = plt.figure()\n"
   ]
  },
  {
   "cell_type": "code",
   "execution_count": 201,
   "id": "19db053a-5d88-403c-b169-a82710b5367d",
   "metadata": {},
   "outputs": [],
   "source": [
    "plt1 = fig.add_subplot(221)\n",
    "plt2 = fig.add_subplot(222)\n",
    "plt3 = fig.add_subplot(223)\n",
    "plt4 = fig.add_subplot(224)"
   ]
  },
  {
   "cell_type": "code",
   "execution_count": null,
   "id": "27adcafd-c2f3-4de8-9df6-948a1c7b0919",
   "metadata": {},
   "outputs": [],
   "source": []
  }
 ],
 "metadata": {
  "kernelspec": {
   "display_name": "Python 3 (ipykernel)",
   "language": "python",
   "name": "python3"
  },
  "language_info": {
   "codemirror_mode": {
    "name": "ipython",
    "version": 3
   },
   "file_extension": ".py",
   "mimetype": "text/x-python",
   "name": "python",
   "nbconvert_exporter": "python",
   "pygments_lexer": "ipython3",
   "version": "3.12.4"
  }
 },
 "nbformat": 4,
 "nbformat_minor": 5
}
